{
 "cells": [
  {
   "cell_type": "markdown",
   "id": "826e316d",
   "metadata": {},
   "source": [
    "## House Price Prediction using Linear, Ridge and Lasso Regression"
   ]
  },
  {
   "cell_type": "markdown",
   "id": "8db1a9a0",
   "metadata": {},
   "source": [
    "### Business Objective"
   ]
  },
  {
   "cell_type": "markdown",
   "id": "53f982c1",
   "metadata": {},
   "source": [
    "A Housing company named 'Surprise Housing' has decided to enter the Australian market. The company wants to purchase houses at a price below their actual values and flip them on at a higher price. For the same purpose, the company has collected a data set from the sale of houses in Australia. \n",
    "\n",
    "The company wants to know:\n",
    "\n",
    "- Which variables are significant in predicting the price of a house, and\n",
    "\n",
    "- How well those variables describe the price of a house."
   ]
  },
  {
   "cell_type": "markdown",
   "id": "ad4a7253",
   "metadata": {},
   "source": [
    "### 1. Data Understanding and Exploration\n",
    "Let's first have a look at the dataset and understand the size, attribute names etc"
   ]
  },
  {
   "cell_type": "code",
   "execution_count": null,
   "id": "e2bf19b2",
   "metadata": {},
   "outputs": [],
   "source": [
    "# import libraries \n",
    "\n",
    "import numpy as np\n",
    "import pandas as pd\n",
    "import matplotlib.pyplot as plt\n",
    "import seaborn as sns\n",
    "\n",
    "import warnings\n",
    "warnings.filterwarnings('ignore')\n",
    "\n",
    "import sklearn\n",
    "from sklearn.model_selection import train_test_split\n",
    "from sklearn.preprocessing import MinMaxScaler\n",
    "from sklearn.metrics import r2_score\n",
    "from sklearn.feature_selection import RFE\n",
    "from sklearn.linear_model import LinearRegression\n",
    "from sklearn.metrics import r2_score, mean_squared_error\n",
    "from sklearn.linear_model import Ridge\n",
    "from sklearn.linear_model import Lasso\n",
    "from sklearn.model_selection import GridSearchCV\n"
   ]
  },
  {
   "cell_type": "code",
   "execution_count": null,
   "id": "32196847",
   "metadata": {},
   "outputs": [],
   "source": [
    "# Read the dataset\n",
    "housing_df = pd.read_csv('train.csv')"
   ]
  },
  {
   "cell_type": "code",
   "execution_count": null,
   "id": "30581c9d",
   "metadata": {
    "scrolled": true
   },
   "outputs": [],
   "source": [
    "# summary of the dataset\n",
    "print(housing_df.info())"
   ]
  },
  {
   "cell_type": "code",
   "execution_count": null,
   "id": "9cca2202",
   "metadata": {},
   "outputs": [],
   "source": [
    "# head\n",
    "housing_df.head()"
   ]
  },
  {
   "cell_type": "code",
   "execution_count": null,
   "id": "8a78d964",
   "metadata": {},
   "outputs": [],
   "source": [
    "# Lets check data type of each column and compare it with data description given. \n",
    "# According to data description MSSubClass,OverallQual,OverallCond, BsmtFullBath,BsmtHalfBath,FullBath,HalfBath,BedroomAbvGr,KitchenAbvGr, TotRmsAbvGrd, Fireplaces,GarageCars,MoSold\n",
    "# contains categories therefore converting these features into object type.\n",
    "\n",
    "for i in ['MSSubClass','OverallQual','OverallCond', 'BsmtFullBath','BsmtHalfBath','FullBath','HalfBath',\n",
    "          'BedroomAbvGr','KitchenAbvGr', 'TotRmsAbvGrd', 'Fireplaces','GarageCars','MoSold','YrSold']:\n",
    "    housing_df[i] = housing_df[i].astype('object')\n",
    "    \n",
    "    "
   ]
  },
  {
   "cell_type": "markdown",
   "id": "41202263",
   "metadata": {},
   "source": [
    "#### Derived metrices"
   ]
  },
  {
   "cell_type": "code",
   "execution_count": null,
   "id": "90c09b9e",
   "metadata": {},
   "outputs": [],
   "source": [
    "# Derived matrices : From year of build we can derive age of  house\n",
    "\n",
    "housing_df['House_Age'] =  2022 - housing_df['YearBuilt']\n",
    "housing_df['RemodAdd_Age'] =  2022 - housing_df['YearRemodAdd']\n",
    "housing_df['Garage_Age'] =  2022 - housing_df['GarageYrBlt']\n",
    "\n",
    "# Dropping year of build \n",
    "\n",
    "housing_df.drop(['YearBuilt','YearRemodAdd','GarageYrBlt'], axis = 1, inplace = True)"
   ]
  },
  {
   "cell_type": "code",
   "execution_count": null,
   "id": "fb172c95",
   "metadata": {},
   "outputs": [],
   "source": [
    "housing_df.describe()"
   ]
  },
  {
   "cell_type": "code",
   "execution_count": null,
   "id": "54ac0ffc",
   "metadata": {},
   "outputs": [],
   "source": [
    "# removing ID  Colomun as it is of no use in prediction\n",
    "\n",
    "housing_df.drop(['Id'], axis = 1, inplace = True)\n"
   ]
  },
  {
   "cell_type": "markdown",
   "id": "26803bf8",
   "metadata": {},
   "source": [
    "#### Missing values treatment"
   ]
  },
  {
   "cell_type": "code",
   "execution_count": null,
   "id": "3778814d",
   "metadata": {
    "scrolled": false
   },
   "outputs": [],
   "source": [
    "# Checking and treating missing values in dataset \n",
    "\n",
    "for i in housing_df.columns:\n",
    "    print(i, ':', (housing_df[i].isnull().sum()/len(housing_df))*100)"
   ]
  },
  {
   "cell_type": "code",
   "execution_count": null,
   "id": "02204c9d",
   "metadata": {},
   "outputs": [],
   "source": [
    "# Replacing NA values as zero for numerical features\n",
    "housing_df[\"LotFrontage\"].fillna(0, inplace = True)\n",
    "housing_df[\"MasVnrArea\"].fillna(0, inplace = True)\n",
    "housing_df[\"Garage_Age\"].fillna(0, inplace = True)\n",
    "\n",
    "# Replacing None in Categorical features for others categories\n",
    "for i in ['Alley','MasVnrType','BsmtQual','BsmtCond','BsmtExposure','BsmtFinType1','BsmtFinType2',\n",
    "          'Electrical','GarageType','GarageFinish','GarageQual','GarageCond','FireplaceQu','PoolQC',\n",
    "          'Fence','MiscFeature']:\n",
    "    housing_df[i].fillna('None', inplace = True)\n"
   ]
  },
  {
   "cell_type": "code",
   "execution_count": null,
   "id": "ad6a55da",
   "metadata": {},
   "outputs": [],
   "source": [
    "# Dropping colums having high value of same categoris\n",
    "housing_df.drop(['Alley','Fence','PoolQC','MiscFeature','Utilities'], axis = 1, inplace = True)"
   ]
  },
  {
   "cell_type": "markdown",
   "id": "3ed36642",
   "metadata": {},
   "source": [
    "#### Data Exploration\n",
    "To perform linear regression, the (numeric) target variable should be linearly related to at least one another numeric variable. Let's see whether that's true in this case.\n",
    "\n",
    "We'll first subset the list of all (independent) numeric variables, and then make a pairwise plot."
   ]
  },
  {
   "cell_type": "code",
   "execution_count": null,
   "id": "12871419",
   "metadata": {
    "scrolled": true
   },
   "outputs": [],
   "source": [
    "# plotting correlations on a heatmap\n",
    "\n",
    "plt.figure(figsize=(20,20))\n",
    "sns.heatmap(housing_df.corr(), annot = True, cmap = 'Greens')\n",
    "plt.show()"
   ]
  },
  {
   "cell_type": "markdown",
   "id": "896847f9",
   "metadata": {},
   "source": [
    "The heatmap shows some useful insights:\n",
    "\n",
    "Correlation of price with independent variables:\n",
    "\n",
    "Price is highly (positively) correlated with Total basement Sq ft, 1st Floor Sq ft, GrLivArea, GarageArea\n",
    "\n",
    "Price is negatively correlated House_age, remodadd_age, garage_age,\n",
    "\n",
    "Correlation among independent variables:\n",
    "\n",
    "Many independent variables are highly correlated:TotalBsmtSF and 1stFlrSF, these are positively correlated"
   ]
  },
  {
   "cell_type": "code",
   "execution_count": null,
   "id": "dbf7671f",
   "metadata": {},
   "outputs": [],
   "source": [
    "# separting Numerical and categorical columns for analysis \n",
    "\n",
    "num_col = []\n",
    "cat_col = []\n",
    "\n",
    "for i in housing_df.columns:\n",
    "    if housing_df[i].dtypes == 'object':\n",
    "        cat_col.append(i)\n",
    "    else:\n",
    "        num_col.append(i)\n",
    "        \n",
    "print('Numerical Columns:', num_col)\n",
    "\n",
    "print('Categorical Columns:', cat_col)\n"
   ]
  },
  {
   "cell_type": "code",
   "execution_count": null,
   "id": "8f06c737",
   "metadata": {},
   "outputs": [],
   "source": [
    "# ploting scatter plot for numrical variables\n",
    "\n",
    "c = 1\n",
    "plt.figure(figsize=(20,80))\n",
    "for i in num_col:\n",
    "    plt.subplot(13,3,c)\n",
    "    sns.scatterplot(data = housing_df , y = \"SalePrice\" , x = housing_df[i])\n",
    "    c = c+1\n",
    "    \n",
    "plt.show()"
   ]
  },
  {
   "cell_type": "markdown",
   "id": "93c483c3",
   "metadata": {},
   "source": [
    "Observation:\n",
    "\n",
    "- Price is highly (positively) correlated with Total basement Sq ft, 1st Floor Sq ft, GrLivArea, GarageArea\n",
    "\n",
    "- Price is negatively correlated House_age, remodadd_age, garage_age,\n"
   ]
  },
  {
   "cell_type": "code",
   "execution_count": null,
   "id": "43626e85",
   "metadata": {
    "scrolled": true
   },
   "outputs": [],
   "source": [
    "# checking  boxplot for cateorical variables \n",
    "\n",
    "c = 1\n",
    "plt.figure(figsize=(20,80))\n",
    "for i in cat_col:\n",
    "    plt.subplot(15,4,c)\n",
    "    sns.boxplot(data = housing_df, x = housing_df[i], y = 'SalePrice')\n",
    "    c = c+1\n",
    "    \n",
    "plt.show()"
   ]
  },
  {
   "cell_type": "markdown",
   "id": "2ab7e427",
   "metadata": {},
   "source": [
    "Observation:\n",
    "\n",
    "- In MsZoning for \"RL\" Residential Low Density properties price is high\n",
    "- Street tells the Type of road access to property"
   ]
  },
  {
   "cell_type": "markdown",
   "id": "3369774c",
   "metadata": {},
   "source": [
    "### 3. Data Preparation"
   ]
  },
  {
   "cell_type": "markdown",
   "id": "29744d8e",
   "metadata": {},
   "source": [
    "#### Data Preparation\n",
    "Let's now prepare the data and build the model."
   ]
  },
  {
   "cell_type": "code",
   "execution_count": null,
   "id": "5932dbb8",
   "metadata": {},
   "outputs": [],
   "source": [
    "# convert into dummies - one hot encoding\n",
    "housing_categorical = housing_df[cat_col]\n",
    "housing_dummies = pd.get_dummies(housing_categorical, drop_first=True)\n",
    "housing_dummies.head()\n",
    "print(housing_dummies.shape)"
   ]
  },
  {
   "cell_type": "code",
   "execution_count": null,
   "id": "9cccfc4a",
   "metadata": {},
   "outputs": [],
   "source": [
    "# adding dummy variales to the dataset\n",
    "housing_df = pd.concat([housing_df[num_col],housing_dummies],axis=1)\n",
    "print(housing_df.shape)\n",
    "housing_df.head()"
   ]
  },
  {
   "cell_type": "code",
   "execution_count": null,
   "id": "aead2e12",
   "metadata": {},
   "outputs": [],
   "source": [
    "# Splitting Data as 80% Train set and 20% Test set\n",
    "\n",
    "housing_train, housing_test = train_test_split(housing_df, train_size = 0.8, random_state = 100 )\n",
    "print(housing_train.shape)\n",
    "print(housing_test.shape)"
   ]
  },
  {
   "cell_type": "code",
   "execution_count": null,
   "id": "7490949a",
   "metadata": {},
   "outputs": [],
   "source": [
    "# scaling the features - necessary before using Ridge or Lasso\n",
    "\n",
    "# 1. instntiate object\n",
    "scaler = MinMaxScaler()\n",
    "\n",
    "# 2. Fit the data\n",
    "housing_train[num_col] = scaler.fit_transform(housing_train[num_col])\n",
    "housing_train.head()"
   ]
  },
  {
   "cell_type": "code",
   "execution_count": null,
   "id": "b83b88ce",
   "metadata": {},
   "outputs": [],
   "source": [
    "y_train = housing_train.pop('SalePrice')\n",
    "X_train = housing_train\n",
    "print(y_train.shape)\n",
    "print(X_train.shape)"
   ]
  },
  {
   "cell_type": "code",
   "execution_count": null,
   "id": "a9245388",
   "metadata": {
    "scrolled": false
   },
   "outputs": [],
   "source": [
    "# Transform the test data\n",
    "housing_test[num_col] = scaler.transform(housing_test[num_col])\n",
    "\n",
    "y_test = housing_test.pop('SalePrice')\n",
    "X_test = housing_test\n",
    "print(y_test.shape)\n",
    "print(X_test.shape)"
   ]
  },
  {
   "cell_type": "markdown",
   "id": "0ebb5363",
   "metadata": {},
   "source": [
    "## 3. Model Building and Evaluation"
   ]
  },
  {
   "cell_type": "markdown",
   "id": "7d10b234",
   "metadata": {},
   "source": [
    "### Model 1 : Linear Regression Model"
   ]
  },
  {
   "cell_type": "code",
   "execution_count": null,
   "id": "87d0230f",
   "metadata": {},
   "outputs": [],
   "source": [
    "# Instantiate\n",
    "lm = LinearRegression()\n",
    "\n",
    "# Fit a line\n",
    "lm.fit(X_train, y_train)\n",
    "\n",
    "# Print the coefficients and intercept\n",
    "print(lm.intercept_)\n",
    "print(lm.coef_)"
   ]
  },
  {
   "cell_type": "code",
   "execution_count": null,
   "id": "8c3afd12",
   "metadata": {
    "scrolled": true
   },
   "outputs": [],
   "source": [
    "y_pred_train = lm.predict(X_train)\n",
    "y_pred_test = lm.predict(X_test)\n",
    "\n",
    "metric = []\n",
    "r2_train_lr = r2_score(y_train, y_pred_train)\n",
    "print(r2_train_lr)\n",
    "metric.append(r2_train_lr)\n",
    "\n",
    "r2_test_lr = r2_score(y_test, y_pred_test)\n",
    "print(r2_test_lr)\n",
    "metric.append(r2_test_lr)\n",
    "\n",
    "rss1_lr = np.sum(np.square(y_train - y_pred_train))\n",
    "print(rss1_lr)\n",
    "metric.append(rss1_lr)\n",
    "\n",
    "rss2_lr = np.sum(np.square(y_test - y_pred_test))\n",
    "print(rss2_lr)\n",
    "metric.append(rss2_lr)\n",
    "\n",
    "mse_train_lr = mean_squared_error(y_train, y_pred_train)\n",
    "print(mse_train_lr)\n",
    "metric.append(mse_train_lr**0.5)\n",
    "\n",
    "mse_test_lr = mean_squared_error(y_test, y_pred_test)\n",
    "print(mse_test_lr)\n",
    "metric.append(mse_test_lr**0.5)"
   ]
  },
  {
   "cell_type": "markdown",
   "id": "153e9b44",
   "metadata": {},
   "source": [
    "#####  From Above Model, vanilla linear regression model is overfitting. It gives very high r2 value on train set but performing poor on test test"
   ]
  },
  {
   "cell_type": "markdown",
   "id": "d86a1d3c",
   "metadata": {},
   "source": [
    "### Model 2 : Ridge Regression"
   ]
  },
  {
   "cell_type": "code",
   "execution_count": null,
   "id": "e03bd76d",
   "metadata": {},
   "outputs": [],
   "source": [
    "# list of alphas to tune - if value too high it will lead to underfitting, if it is too low, \n",
    "# it will not handle the overfitting\n",
    "params = {'alpha': [0.0001, 0.001, 0.01, 0.05, 0.1, \n",
    " 0.2, 0.3, 0.4, 0.5, 0.6, 0.7, 0.8, 0.9, 1.0, 2.0, 3.0, \n",
    " 4.0, 5.0, 6.0, 7.0, 8.0, 9.0, 10.0, 20, 50, 100, 500, 1000 ]}\n",
    "\n",
    "ridge = Ridge()\n",
    "\n",
    "# cross validation\n",
    "folds = 5\n",
    "model_cv = GridSearchCV(estimator = ridge, \n",
    "                        param_grid = params, \n",
    "                        scoring= 'neg_mean_absolute_error',  \n",
    "                        cv = folds, \n",
    "                        return_train_score=True,\n",
    "                        verbose = 1)            \n",
    "model_cv.fit(X_train, y_train) \n",
    "#https://scikit-learn.org/stable/modules/model_evaluation.html"
   ]
  },
  {
   "cell_type": "code",
   "execution_count": null,
   "id": "11c4f00a",
   "metadata": {},
   "outputs": [],
   "source": [
    "# Printing the best hyperparameter alpha\n",
    "print(model_cv.best_params_)"
   ]
  },
  {
   "cell_type": "code",
   "execution_count": null,
   "id": "7acaa181",
   "metadata": {},
   "outputs": [],
   "source": [
    "#Fitting Ridge model for alpha = 10 and printing coefficients which have been penalised\n",
    "alpha = 8.0\n",
    "ridge = Ridge(alpha=alpha)\n",
    "\n",
    "ridge.fit(X_train, y_train)\n",
    "print(ridge.coef_)"
   ]
  },
  {
   "cell_type": "code",
   "execution_count": null,
   "id": "f5bcde43",
   "metadata": {},
   "outputs": [],
   "source": [
    "# Lets calculate some metrics such as R2 score, RSS and RMSE\n",
    "y_pred_train = ridge.predict(X_train)\n",
    "y_pred_test = ridge.predict(X_test)\n",
    "\n",
    "metric2 = []\n",
    "r2_train_lr = r2_score(y_train, y_pred_train)\n",
    "print(r2_train_lr)\n",
    "metric2.append(r2_train_lr)\n",
    "\n",
    "r2_test_lr = r2_score(y_test, y_pred_test)\n",
    "print(r2_test_lr)\n",
    "metric2.append(r2_test_lr)\n",
    "\n",
    "rss1_lr = np.sum(np.square(y_train - y_pred_train))\n",
    "print(rss1_lr)\n",
    "metric2.append(rss1_lr)\n",
    "\n",
    "rss2_lr = np.sum(np.square(y_test - y_pred_test))\n",
    "print(rss2_lr)\n",
    "metric2.append(rss2_lr)\n",
    "\n",
    "mse_train_lr = mean_squared_error(y_train, y_pred_train)\n",
    "print(mse_train_lr)\n",
    "metric2.append(mse_train_lr**0.5)\n",
    "\n",
    "mse_test_lr = mean_squared_error(y_test, y_pred_test)\n",
    "print(mse_test_lr)\n",
    "metric2.append(mse_test_lr**0.5)"
   ]
  },
  {
   "cell_type": "markdown",
   "id": "ce7ad90c",
   "metadata": {},
   "source": [
    "### Model 3 : Lasso Regression"
   ]
  },
  {
   "cell_type": "code",
   "execution_count": null,
   "id": "f5fe0728",
   "metadata": {},
   "outputs": [],
   "source": [
    "lasso = Lasso()\n",
    "\n",
    "# cross validation\n",
    "model_cv = GridSearchCV(estimator = lasso, \n",
    "                        param_grid = params, \n",
    "                        scoring= 'neg_mean_absolute_error', \n",
    "                        cv = folds, \n",
    "                        return_train_score=True,\n",
    "                        verbose = 1)            \n",
    "\n",
    "model_cv.fit(X_train, y_train) "
   ]
  },
  {
   "cell_type": "code",
   "execution_count": null,
   "id": "6b25f0d3",
   "metadata": {},
   "outputs": [],
   "source": [
    "# Printing the best hyperparameter alpha\n",
    "print(model_cv.best_params_)"
   ]
  },
  {
   "cell_type": "code",
   "execution_count": null,
   "id": "9fbcdb16",
   "metadata": {},
   "outputs": [],
   "source": [
    "#Fitting Ridge model for alpha = 0.0001 and printing coefficients which have been penalised\n",
    "\n",
    "alpha =0.0001\n",
    "\n",
    "lasso = Lasso(alpha=alpha)\n",
    "        \n",
    "lasso.fit(X_train, y_train) \n",
    "\n",
    "lasso.coef_"
   ]
  },
  {
   "cell_type": "code",
   "execution_count": null,
   "id": "71225982",
   "metadata": {},
   "outputs": [],
   "source": [
    "# Lets calculate some metrics such as R2 score, RSS and RMSE\n",
    "\n",
    "y_pred_train = lasso.predict(X_train)\n",
    "y_pred_test = lasso.predict(X_test)\n",
    "\n",
    "metric3 = []\n",
    "r2_train_lr = r2_score(y_train, y_pred_train)\n",
    "print(r2_train_lr)\n",
    "metric3.append(r2_train_lr)\n",
    "\n",
    "r2_test_lr = r2_score(y_test, y_pred_test)\n",
    "print(r2_test_lr)\n",
    "metric3.append(r2_test_lr)\n",
    "\n",
    "rss1_lr = np.sum(np.square(y_train - y_pred_train))\n",
    "print(rss1_lr)\n",
    "metric3.append(rss1_lr)\n",
    "\n",
    "rss2_lr = np.sum(np.square(y_test - y_pred_test))\n",
    "print(rss2_lr)\n",
    "metric3.append(rss2_lr)\n",
    "\n",
    "mse_train_lr = mean_squared_error(y_train, y_pred_train)\n",
    "print(mse_train_lr)\n",
    "metric3.append(mse_train_lr**0.5)\n",
    "\n",
    "mse_test_lr = mean_squared_error(y_test, y_pred_test)\n",
    "print(mse_test_lr)\n",
    "metric3.append(mse_test_lr**0.5)"
   ]
  },
  {
   "cell_type": "markdown",
   "id": "96da6a3c",
   "metadata": {},
   "source": [
    "#### Metrices Evauation and comparison for all models "
   ]
  },
  {
   "cell_type": "code",
   "execution_count": null,
   "id": "55228602",
   "metadata": {},
   "outputs": [],
   "source": [
    "# Creating a table which contain all the metrics\n",
    "\n",
    "lr_table = {'Metric': ['R2 Score (Train)','R2 Score (Test)','RSS (Train)','RSS (Test)',\n",
    "                       'MSE (Train)','MSE (Test)'], \n",
    "        'Linear Regression': metric\n",
    "        }\n",
    "\n",
    "lr_metric = pd.DataFrame(lr_table ,columns = ['Metric', 'Linear Regression'] )\n",
    "\n",
    "rg_metric = pd.Series(metric2, name = 'Ridge Regression')\n",
    "ls_metric = pd.Series(metric3, name = 'Lasso Regression')\n",
    "\n",
    "final_metric = pd.concat([lr_metric, rg_metric, ls_metric], axis = 1)\n",
    "\n",
    "final_metric"
   ]
  },
  {
   "cell_type": "markdown",
   "id": "bbd5731e",
   "metadata": {},
   "source": [
    "### Lets observe the changes in the coefficients after regularization"
   ]
  },
  {
   "cell_type": "code",
   "execution_count": null,
   "id": "5a0a4014",
   "metadata": {},
   "outputs": [],
   "source": [
    "betas = pd.DataFrame(index=X_train.columns)\n",
    "betas.rows = X_train.columns\n",
    "betas['Linear'] = lm.coef_\n",
    "betas['Ridge'] = ridge.coef_\n",
    "betas['Lasso'] = lasso.coef_"
   ]
  },
  {
   "cell_type": "code",
   "execution_count": null,
   "id": "bfd073ef",
   "metadata": {},
   "outputs": [],
   "source": [
    "pd.set_option('display.max_rows', None)\n",
    "betas"
   ]
  },
  {
   "cell_type": "markdown",
   "id": "e8c6c71a",
   "metadata": {},
   "source": [
    "### Observation :\n",
    "\n",
    "Below features impact positively on house price :\n",
    "\n",
    "- LotArea : Lot size in square feet of house\n",
    "- GrLivArea: Above grade (ground) living area square feet\n",
    "- Neighborhood_NoRidge: Physical locations within Ames city limits (Northridge)\n",
    "- OverallQual_10: Rates the overall material and finish of the house (rating = 10)\n",
    "- RoofMatl_WdShngl:Roof material(Wood Shingles)\n",
    "\n",
    "\n",
    "Below features imapct negatively on house price(that is price drop with increase in values of these features) :\n",
    "\n",
    "- House_Age : how old house is built\n",
    "- RemodAdd_Age: how old house is remodified\n",
    "- Neighborhood_Edwards: Physical locations within Ames city limits (Edwards)"
   ]
  }
 ],
 "metadata": {
  "kernelspec": {
   "display_name": "Python 3",
   "language": "python",
   "name": "python3"
  },
  "language_info": {
   "codemirror_mode": {
    "name": "ipython",
    "version": 3
   },
   "file_extension": ".py",
   "mimetype": "text/x-python",
   "name": "python",
   "nbconvert_exporter": "python",
   "pygments_lexer": "ipython3",
   "version": "3.8.8"
  }
 },
 "nbformat": 4,
 "nbformat_minor": 5
}
